{
 "cells": [
  {
   "cell_type": "markdown",
   "id": "a6e1afa1-cfd6-4cc5-be99-5a588d7dea8e",
   "metadata": {},
   "source": [
    "# Project Final Report\n",
    "#### project-002-21  \n",
    "Group members: Natalie Huang,  \n",
    "Student Numbers: 93033579,   \n",
    "DSCI 100-002  "
   ]
  },
  {
   "cell_type": "markdown",
   "id": "8e92e585-5cda-46af-a780-f0e540532b14",
   "metadata": {},
   "source": [
    "**`session.csv`**\n",
    "\n",
    "\n",
    "`hashedEmail`: Registered email addresses of players. (Character)\n",
    "\n",
    "`start_time`: Date and time (in military time) when the players' sessions started. (Character)\n",
    "\n",
    "`end_time`: Date and time (in military time) when the players' sessions ended. (Character)\n",
    "\n",
    "`original_start_time`: Time when the players sessions started in numerical format. (Double)\n",
    "\n",
    "`original_end_time`: Time when the players sessions ended in numerical format. (Double)\n",
    "\n",
    "\n",
    "Number of observations: 1535\n",
    "\n",
    "\n",
    "An issue is that the varaibles `start_time` and `end_time` include two pieces of information in the cells, as well as that this data is reported as a character with dd/mm/yyyy. "
   ]
  },
  {
   "cell_type": "markdown",
   "id": "a5788ae8-f2b7-4673-8e37-915f7d52cd8c",
   "metadata": {},
   "source": [
    "## Introduction\n",
    "\n",
    "This project explores a real-world data science problem in collaboration with a computer science research group from UBC led by Dr. Frank Wood. The group is collecting data on player behavior within a custom-designed Minecraft server, where players' actions are tracked as they interact with the game world. The aim is to better understand how people interact with video games using real-time behavioral data.\n",
    "\n",
    "To support this research, this report investigates the broad question: Which kinds of players are most likely to contribute a large amount of data, and how can those players be targeted in recruitment efforts? Specifically, the analysis focuses on the question: **How does a player’s age influence the number of hours they play?** The objective is to assess whether age is a meaningful predictor of engagement, measured by total gameplay time, and to provide insight into recruitment strategies for highly engaged players.\n",
    "\n",
    "For this investigation, the `sessions.csv` dataset was excluded, as all relevant data for this question is contained within the `players.csv` dataset.  \n",
    "\n",
    "The `players.csv` dataset, collected from a recorded Minecraft server, contains 196 observations and 7 variables describing player characteristics: \n",
    "1. `experience`: Player’s skill level (e.g., Beginner, Amateur, Veteran); character\n",
    "2. `subscribe`: Whether the player is subscribed to the game’s newsletter; logical\n",
    "3. `hashedEmail`: Anonymized player email (unique identifier); character  \n",
    "4. `played_hours`: Total hours played, recorded to one decimal place; double  \n",
    "5. `name`: Player’s chosen in-game username; character  \n",
    "6. `gender`: Player's Self-identified gender; character  \n",
    "7. `Age`: Player’s age in years; double  "
   ]
  },
  {
   "cell_type": "markdown",
   "id": "aa631324-fcd2-4218-9f22-3d13725f6472",
   "metadata": {},
   "source": [
    "## Methods and Plans\n",
    "\n",
    "**Changing the plan, Im just putting it here for inspo**\n",
    "\n",
    "Input synthetic entries for the variables that do not have as many data points (e.g `Pro`), which is a limitation in the model. \n",
    "\n",
    "The data then needs to be scaled since the weight of varaibles could impact classifications. \n",
    "\n",
    "Next, split the data, 80% training set and 20% testing set. A large training set is used to allow for effective predictive methods.\n",
    "\n",
    "Corss validation will be used to help determine the best number of k-neighbors. \n",
    "\n",
    "A validation set will be used with 3-5 folds since the data set is small. \n",
    "\n",
    "A classification model can be applied and the 'type' of player that provides the most data to the server can be determined. \n",
    "\n",
    "Then, the accurcay of the classification can be analysed. "
   ]
  },
  {
   "cell_type": "code",
   "execution_count": null,
   "id": "1fd199c3-e6bf-4313-94d4-9a287e516c6c",
   "metadata": {},
   "outputs": [],
   "source": [
    "# Load libraries\n",
    "\n",
    "library(tidyverse)\n",
    "library(tidymodels)\n",
    "library(tidyclust)\n",
    "library(forcats)\n",
    "library(repr)\n",
    "library(GGally)\n",
    "options(repr.matrix.max.rows = 10)\n",
    "# source(\"cleanup.R\")\n",
    "set.seed(2000)"
   ]
  },
  {
   "cell_type": "code",
   "execution_count": null,
   "id": "fcd9c16c-e923-4827-ba51-ef49f612cde1",
   "metadata": {},
   "outputs": [],
   "source": [
    "# Load dataset\n",
    "players_url <- \"https://raw.githubusercontent.com/Norah-supercoder/dsci-100-project-individual/refs/heads/main/players.csv\"\n",
    "\n",
    "players <- read_csv(players_url)\n",
    "\n",
    "players "
   ]
  },
  {
   "cell_type": "code",
   "execution_count": null,
   "id": "1cbd26b9-03de-4f67-9a03-4985d340776c",
   "metadata": {},
   "outputs": [],
   "source": [
    "players <- rename(players, \n",
    "                        hashed_email = hashedEmail, \n",
    "                        age = Age)\n",
    "\n",
    "\n",
    "players <- na.omit(players)"
   ]
  },
  {
   "cell_type": "code",
   "execution_count": null,
   "id": "63191362-aa0c-4306-948b-63037acb3844",
   "metadata": {},
   "outputs": [],
   "source": [
    "players_mean <- players |>\n",
    "    group_by(experience)|>\n",
    "    summarize(average_hours = mean(played_hours, na.rm = TRUE),\n",
    "             average_age = mean(age, na.rm = TRUE), \n",
    "             count = n())|>\n",
    "mutate(experience=as_factor(experience))\n",
    "\n",
    "\n",
    "players"
   ]
  },
  {
   "cell_type": "code",
   "execution_count": null,
   "id": "2f4aac59-239f-4b50-b05a-b35ba84eef18",
   "metadata": {},
   "outputs": [],
   "source": [
    "options(repr.plot.width = 12, repr.plot.height = 8)\n",
    "\n",
    "players_time_plot <- ggplot(players, aes(x = age, y = played_hours, color = experience))+\n",
    "        geom_point()+\n",
    "        labs(color = \"Level of Player Experience\", x = \"Age (in Years)\", y = \"Hours Played\", title = \"Hours Played by Individuals of Various Ages\")+\n",
    "        theme(text = element_text(size = 12))\n",
    "\n",
    "players_time_plot "
   ]
  },
  {
   "cell_type": "markdown",
   "id": "1778bb47-266f-4b35-a634-155b38e0c583",
   "metadata": {},
   "source": [
    "This plot shows that `Regular` and `Amateur` players have the most amount of hours played with an age of ~20.  "
   ]
  },
  {
   "cell_type": "code",
   "execution_count": null,
   "id": "cdfb9acf-7569-44ad-9eea-49774db0e4cd",
   "metadata": {},
   "outputs": [],
   "source": [
    "options(repr.plot.width = 8, repr.plot.height = 8)\n",
    "players_count_plot <- ggplot(players_mean, aes(x = experience, y = count))+\n",
    "        geom_bar(stat = \"identity\")+\n",
    "        labs(x = \"Level of Player Experience\", y = \"Number of Players\", title = \"Number of Players at Each Level of Experience\")+\n",
    "        theme(text = element_text(size = 12))\n",
    "\n",
    "players_count_plot"
   ]
  },
  {
   "cell_type": "markdown",
   "id": "9b7cdf7a-8bfa-4880-a224-c4fa93936b15",
   "metadata": {},
   "source": [
    "This plot shows that most players are `Amateur` and `Veteran` whereas the least amount of players are `Pro`. "
   ]
  },
  {
   "cell_type": "code",
   "execution_count": null,
   "id": "c58c0bdc-1d3d-4604-bbf9-579356581769",
   "metadata": {},
   "outputs": [],
   "source": [
    "players_split <- initial_split(players, prop = 0.75, strata = experience)  \n",
    "players_train <- training(players_split)   \n",
    "players_test <- testing(players_split)\n",
    "\n",
    "\n",
    "players_train\n",
    "players_test"
   ]
  },
  {
   "cell_type": "code",
   "execution_count": null,
   "id": "d2f72b76-b9f1-472e-a135-857514e2cc3c",
   "metadata": {},
   "outputs": [],
   "source": [
    "players_recipe <- recipe(~ played_hours + age, data = players) |>\n",
    "   step_scale(all_predictors()) |>\n",
    "   step_center(all_predictors())"
   ]
  },
  {
   "cell_type": "code",
   "execution_count": null,
   "id": "a50583be-b024-41f4-a368-16c7b6eeeca1",
   "metadata": {},
   "outputs": [],
   "source": [
    "# Clustering to find the value of k\n",
    "players_ks <- tibble(num_clusters = 1:10)\n",
    "\n",
    "players_spec_tune <- k_means(num_clusters = tune()) |>\n",
    "       set_engine(\"stats\", nstart = 10)\n",
    "\n",
    "\n",
    "players_tuning_stats <- workflow() |>\n",
    "       add_recipe(players_recipe) |>\n",
    "       add_model(players_spec_tune) |>\n",
    "       tune_cluster(resamples = apparent(players), grid = players_ks) |>\n",
    "       collect_metrics()\n",
    "\n",
    "elbow_stats <- players_tuning_stats |>\n",
    "       mutate(total_WSSD = mean) |>\n",
    "       filter(.metric == \"sse_within_total\") |>\n",
    "       select(num_clusters, total_WSSD)\n",
    "\n",
    "\n",
    "elbow_stats"
   ]
  },
  {
   "cell_type": "code",
   "execution_count": null,
   "id": "9b814c91-b55d-4805-bd8e-9ff7208bceea",
   "metadata": {},
   "outputs": [],
   "source": [
    "choose_players_k <- ggplot(elbow_stats, aes(x = num_clusters, y = total_WSSD))+\n",
    "    geom_point()+\n",
    "    geom_line()+\n",
    "    labs(x = \"Number of K Clusters\", y = \"Total Within-Cluster Sum of Squares\")\n",
    "\n",
    "choose_players_k"
   ]
  },
  {
   "cell_type": "code",
   "execution_count": null,
   "id": "d3e9d9da-b4ef-4c79-af90-3c2658fe5957",
   "metadata": {},
   "outputs": [],
   "source": [
    "set.seed(2019) \n",
    "players_spec <- k_means(num_clusters = 4)|>\n",
    "       set_engine(\"stats\")\n",
    "\n",
    "players_clustering <- workflow() |> \n",
    "    add_recipe(players_recipe) |> \n",
    "    add_model(players_spec) |> \n",
    "    fit(data = players)\n",
    "players_clustering"
   ]
  },
  {
   "cell_type": "code",
   "execution_count": null,
   "id": "fd072eb0-754a-4b10-8b0d-92b82d71ec1a",
   "metadata": {},
   "outputs": [],
   "source": [
    "clustered_players <- augment(players_clustering, players)\n",
    "players_clustering_plot <- ggplot(clustered_players, aes(x = age, y = played_hours, color = .pred_cluster)) +\n",
    "    geom_point(alpha = 0.7, size = 3) +  \n",
    "    labs(\n",
    "        title = \"K-Means Clustering of Players (Age vs Played hours)\",\n",
    "        x = \"Age(years)\",\n",
    "        y = \"Played time(hours)\",\n",
    "        color = \"Cluster\"\n",
    "    ) +\n",
    "    theme_minimal(base_size = 15) \n",
    "players_clustering_plot"
   ]
  },
  {
   "cell_type": "markdown",
   "id": "8c9c2473-c915-41a6-ac04-be7904fa0c82",
   "metadata": {},
   "source": [
    "## Discussion\n"
   ]
  },
  {
   "cell_type": "code",
   "execution_count": null,
   "id": "d82af7ad-a249-43fa-b71f-d63029e39970",
   "metadata": {},
   "outputs": [],
   "source": []
  }
 ],
 "metadata": {
  "kernelspec": {
   "display_name": "R",
   "language": "R",
   "name": "ir"
  },
  "language_info": {
   "codemirror_mode": "r",
   "file_extension": ".r",
   "mimetype": "text/x-r-source",
   "name": "R",
   "pygments_lexer": "r",
   "version": "4.3.3"
  }
 },
 "nbformat": 4,
 "nbformat_minor": 5
}
